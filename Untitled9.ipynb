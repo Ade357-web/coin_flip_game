{
  "nbformat": 4,
  "nbformat_minor": 0,
  "metadata": {
    "colab": {
      "name": "Untitled9.ipynb",
      "provenance": [],
      "collapsed_sections": [],
      "authorship_tag": "ABX9TyOmgHRYYK/uJhtYeK2iyaM0",
      "include_colab_link": true
    },
    "kernelspec": {
      "name": "python3",
      "display_name": "Python 3"
    }
  },
  "cells": [
    {
      "cell_type": "markdown",
      "metadata": {
        "id": "view-in-github",
        "colab_type": "text"
      },
      "source": [
        "<a href=\"https://colab.research.google.com/github/Ade357-web/coin_flip_game/blob/master/Untitled9.ipynb\" target=\"_parent\"><img src=\"https://colab.research.google.com/assets/colab-badge.svg\" alt=\"Open In Colab\"/></a>"
      ]
    },
    {
      "cell_type": "code",
      "metadata": {
        "colab": {
          "base_uri": "https://localhost:8080/"
        },
        "id": "Mc_WP2jJfGVW",
        "outputId": "bcd444d0-5aca-4602-a6cb-7f0041c04f0f"
      },
      "source": [
        "graph = {'a':{'b':3, 'c':7}, 'b':{'a':5, 'd':7, 'e':12},'c':{'a':4, 'd':9, 'f':8}, 'd':{'c':7,'b':5,'e':3, 'f':5 }, 'e':{'b':9,'d':5,'g':6},'f':{'c':12, 'd':7, 'g':8}, 'g':{'e':7, 'f':5}}\n",
        "#Membuat Keterangan Gambar menenjadi Grafik Kedalam format python\n",
        "#Keterangan a,b,c,d dan e adalah keterangan posisi\n",
        "#Contoh Keterangan 'a':{'b':10,'c':3} maksutnya adalah\n",
        "#Kota a menuju kota b (Jarak=10) dan a menuju kota c (Jarak=3) dan seterusnya...\n",
        "\n",
        "def dijkstra (graph, start,goal):\n",
        "  shortest_distance = {} #Jarak Terpendek\n",
        "  predecessor = {} #Titik Awalan\n",
        "  unseenNodes = graph #Merupakan Grafik Yang dibuat\n",
        "  infinity = 9999999 #Merupakan Nilai Terbesar\n",
        "  path = [] #Merupakan Jarak Terpendek Yang diDapatkan\n",
        "  for node in unseenNodes:\n",
        "    shortest_distance[node] = infinity #Jarak Terpendek Tidak Terbatas karna belum di tentukan nilainya\n",
        "  shortest_distance[start] = 0 #Untuk nilai Titil Awal bernilai 0 \"Nol\"\n",
        "\n",
        "  while unseenNodes:\n",
        "      minNode = None\n",
        "      for node in unseenNodes:\n",
        "          if minNode is None:\n",
        "              minNode = node\n",
        "          elif shortest_distance[node] < shortest_distance[minNode]:\n",
        "            #node Lebih Kecil Dari minNode\n",
        "              minNode = node #Maka minNode adalah node\n",
        "\n",
        "      for childNode, weight in graph[minNode].items():\n",
        "        #Memisalkan Jarak kota a ke kota b (childNode = b dan minNode = a) dengan\n",
        "        #nilai yang telah ada contoh {'a':{'b':10,'c':3}}\n",
        "          if weight + shortest_distance[minNode] < shortest_distance[childNode]:\n",
        "              shortest_distance[childNode] = weight + shortest_distance[minNode]\n",
        "              predecessor[childNode] = minNode\n",
        "      unseenNodes.pop(minNode)\n",
        "\n",
        "  currentNode = goal\n",
        "  #currentNode adalah sebagai tujuan 'goal'\n",
        "  while currentNode != start:\n",
        "    try:\n",
        "        path.insert(0,currentNode)\n",
        "        # Nol '0' Sebagai awalan dan currentNode \"Sebagai Tujuan/goal\"\n",
        "        currentNode = predecessor[currentNode]\n",
        "    except KeyError:\n",
        "      #Kecuali pada saat kata kunci yang di masukkan error maka di tampilkan \n",
        "      #'Jalan Tidak Dapat di Akses'\n",
        "        print('Jalan Tidak Dapat di Akses')\n",
        "        break\n",
        "  path.insert(0,start)\n",
        "  if shortest_distance[goal] != infinity:\n",
        "      print('Jarak Terpendek adalah = ' + str(shortest_distance[goal]))\n",
        "      #Menampilkan nilai Jarak Terpendek\n",
        "      print('Dan Jarak Terjauh_Nya Adalah = ' + str(path))\n",
        "      #Menampilkan Jarak terjauh dari Jalur \n",
        "\n",
        "\n",
        "dijkstra(graph, 'a', 'f')"
      ],
      "execution_count": 25,
      "outputs": [
        {
          "output_type": "stream",
          "text": [
            "Jarak Terpendek adalah = 15\n",
            "Dan Jarak Terjauh_Nya Adalah = ['a', 'c', 'f']\n"
          ],
          "name": "stdout"
        }
      ]
    }
  ]
}